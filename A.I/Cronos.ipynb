{
 "cells": [
  {
   "cell_type": "code",
   "execution_count": 8,
   "metadata": {},
   "outputs": [
    {
     "ename": "NameError",
     "evalue": "name 'load_and_preprocess_data' is not defined",
     "output_type": "error",
     "traceback": [
      "\u001b[1;31m---------------------------------------------------------------------------\u001b[0m",
      "\u001b[1;31mNameError\u001b[0m                                 Traceback (most recent call last)",
      "Cell \u001b[1;32mIn[8], line 4\u001b[0m\n\u001b[0;32m      1\u001b[0m \u001b[39mimport\u001b[39;00m \u001b[39mtensorflow\u001b[39;00m \u001b[39mas\u001b[39;00m \u001b[39mtf\u001b[39;00m\n\u001b[0;32m      3\u001b[0m \u001b[39m# Load and preprocess the data\u001b[39;00m\n\u001b[1;32m----> 4\u001b[0m (x_train, y_train), (x_val, y_val) \u001b[39m=\u001b[39m load_and_preprocess_data()\n\u001b[0;32m      6\u001b[0m \u001b[39m# Build the model\u001b[39;00m\n\u001b[0;32m      7\u001b[0m inputs \u001b[39m=\u001b[39m tf\u001b[39m.\u001b[39mkeras\u001b[39m.\u001b[39mInput(shape\u001b[39m=\u001b[39m(\u001b[39mNone\u001b[39;00m,), dtype\u001b[39m=\u001b[39mtf\u001b[39m.\u001b[39mint32)\n",
      "\u001b[1;31mNameError\u001b[0m: name 'load_and_preprocess_data' is not defined"
     ]
    }
   ],
   "source": [
    "import tensorflow as tf\n",
    "\n",
    "# Load and preprocess the data\n",
    "(x_train, y_train), (x_val, y_val) = load_and_preprocess_data()\n",
    "\n",
    "# Build the model\n",
    "inputs = tf.keras.Input(shape=(None,), dtype=tf.int32)\n",
    "embeddings = tf.keras.layers.Embedding(vocab_size, embedding_dim)(inputs)\n",
    "encoder_outputs, state_h, state_c = tf.keras.layers.LSTM(encoder_units, return_state=True)(embeddings)\n",
    "encoder_states = [state_h, state_c]\n",
    "\n",
    "decoder_inputs = tf.keras.Input(shape=(None,), dtype=tf.int32)\n",
    "decoder_embeddings = tf.keras.layers.Embedding(vocab_size, embedding_dim)(decoder_inputs)\n",
    "decoder_lstm = tf.keras.layers.LSTM(decoder_units, return_sequences=True, return_state=True)\n",
    "decoder_outputs, _, _ = decoder_lstm(decoder_embeddings, initial_state=encoder_states)\n",
    "decoder_dense = tf.keras.layers.Dense(vocab_size, activation='softmax')\n",
    "outputs = decoder_dense(decoder_outputs)\n",
    "\n",
    "model = tf.keras.Model([inputs, decoder_inputs], outputs)\n",
    "\n",
    "# Compile the model\n",
    "model.compile(loss='sparse_categorical_crossentropy', optimizer='adam', metrics=['accuracy'])\n",
    "\n",
    "# Train the model\n",
    "history = model.fit([x_train, y_train[:, :-1]], y_train[:, 1:], batch_size=32, epochs=10, validation_data=([x_val, y_val[:, :-1]], y_val[:, 1:]))\n",
    "\n",
    "# Evaluate the model\n",
    "val_loss, val_acc = model.evaluate([x_val, y_val[:, :-1]], y_val[:, 1:])\n"
   ]
  },
  {
   "cell_type": "code",
   "execution_count": null,
   "metadata": {},
   "outputs": [],
   "source": [
    "import numpy as np\n",
    "\n",
    "# Load the data\n",
    "questions = [\n",
    "    \"What is your name?\",\n",
    "    \"How old are you?\",\n",
    "    \"Where are you from?\",\n",
    "    \"What do you do?\",\n",
    "    \"What are your hobbies?\",\n",
    "]\n",
    "\n",
    "answers = [\n",
    "    \"My name is Alice.\",\n",
    "    \"I am 25 years old.\",\n",
    "    \"I am from New York.\",\n",
    "    \"I am a software engineer.\",\n",
    "    \"I enjoy reading, hiking, and playing video games.\",\n",
    "]\n",
    "\n",
    "# Preprocess the data\n",
    "vocab = set(questions + answers)\n",
    "vocab_size = len(vocab)\n",
    "\n",
    "# Create a vocabulary index\n",
    "vocab_index = {word: index for index, word in enumerate(vocab)}\n",
    "\n",
    "# Encode the data\n",
    "x_train = np.array([[vocab_index[word] for word in question.split()] for question in questions])\n",
    "y_train = np.array([[vocab_index[word] for word in answer.split()] for answer in answers])\n",
    "\n",
    "# Create a validation set\n",
    "x_val = x_train[:2]\n",
    "y_val = y_train[:2]\n",
    "\n",
    "# Use the remaining data for training\n",
    "x_train = x_train[2:]\n",
    "y_train = y_train[2:]\n"
   ]
  }
 ],
 "metadata": {
  "kernelspec": {
   "display_name": "Python 3",
   "language": "python",
   "name": "python3"
  },
  "language_info": {
   "codemirror_mode": {
    "name": "ipython",
    "version": 3
   },
   "file_extension": ".py",
   "mimetype": "text/x-python",
   "name": "python",
   "nbconvert_exporter": "python",
   "pygments_lexer": "ipython3",
   "version": "3.10.9"
  },
  "orig_nbformat": 4,
  "vscode": {
   "interpreter": {
    "hash": "a4bf266548092092bd818cca611edd8b5aa7f1c3ffb822283503dff9dc814f5e"
   }
  }
 },
 "nbformat": 4,
 "nbformat_minor": 2
}
